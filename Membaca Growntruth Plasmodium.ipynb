{
  "nbformat": 4,
  "nbformat_minor": 0,
  "metadata": {
    "colab": {
      "name": "Untitled1.ipynb",
      "provenance": [],
      "toc_visible": true,
      "authorship_tag": "ABX9TyPxYpRU9g8XqsYEImonrQhu",
      "include_colab_link": true
    },
    "kernelspec": {
      "name": "python3",
      "display_name": "Python 3"
    },
    "accelerator": "GPU"
  },
  "cells": [
    {
      "cell_type": "markdown",
      "metadata": {
        "id": "view-in-github",
        "colab_type": "text"
      },
      "source": [
        "<a href=\"https://colab.research.google.com/github/wirawansp/Deteksi-/blob/master/Membaca%20Growntruth%20Plasmodium.ipynb\" target=\"_parent\"><img src=\"https://colab.research.google.com/assets/colab-badge.svg\" alt=\"Open In Colab\"/></a>"
      ]
    },
    {
      "cell_type": "code",
      "metadata": {
        "id": "afWKo4sBu8Ur",
        "colab_type": "code",
        "colab": {}
      },
      "source": [
        "import cv2\n",
        "import xml.etree.ElementTree as ET\n",
        "import numpy as np\n",
        "\n",
        "\n",
        "def read_content(xml_file: str):\n",
        "\n",
        "    tree = ET.parse(xml_file)\n",
        "    root = tree.getroot()\n",
        "\n",
        "    list_with_all_boxes = []\n",
        "\n",
        "    for boxes in root.iter('object'):\n",
        "\n",
        "        #filename = root.find('label').text\n",
        "\n",
        "        ymin, xmin, ymax, xmax = None, None, None, None\n",
        "\n",
        "        for box in boxes.findall(\"bndbox\"):\n",
        "            ymin = box.find(\"ymin\").text\n",
        "            xmin = box.find(\"xmin\").text\n",
        "            ymax = box.find(\"ymax\").text\n",
        "            xmax = box.find(\"xmax\").text\n",
        "\n",
        "        list_with_single_boxes = [xmin, ymin, xmax, ymax]\n",
        "        list_with_all_boxes.append(list_with_single_boxes)\n",
        "\n",
        "    return  list_with_all_boxes\n",
        "\n",
        "boxes = read_content(\"plasmodium-phone-0700.xml\")\n",
        "\n",
        "boxes = np.asarray(boxes)\n",
        "boxes = boxes.astype('float32')\n",
        "boxes = boxes.astype(int)\n",
        "#print(boxes.shape[0])\n",
        "\n",
        "img  = cv2.imread('plasmodium-phone-0700.jpg')\n",
        "\n",
        "for i in range(boxes.shape[0]):\n",
        "    x1 = boxes[i][0]\n",
        "    y1 = boxes[i][1]\n",
        "    x2 = boxes[i][2]\n",
        "    y2 = boxes[i][3]\n",
        "    #print(str(x1) + \" \" +str(y1) + \" \" +str(x2) + \" \" +str(y2) )\n",
        "    \n",
        "    img = cv2.rectangle(img, (x1,y1), (x2,y2), (0, 0, 255) , 2) \n",
        "\n",
        "\n",
        "cv2.imshow('a',img)\n",
        "\n"
      ],
      "execution_count": 0,
      "outputs": []
    }
  ]
}